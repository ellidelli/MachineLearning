{
 "cells": [
  {
   "cell_type": "code",
   "execution_count": 15,
   "metadata": {},
   "outputs": [
    {
     "name": "stdout",
     "output_type": "stream",
     "text": [
      "first few rows of the dataframe:\n",
      "             timestamp  unit_id           unit_type empire_or_resistance  \\\n",
      "0  2024-07-11 10:07:39        1  resistance_soldier           resistance   \n",
      "1  2024-07-11 10:07:38        2              x-wing               empire   \n",
      "2  2024-07-11 10:07:37        3  resistance_soldier               empire   \n",
      "3  2024-07-11 10:07:36        4         tie_fighter           resistance   \n",
      "4  2024-07-11 10:07:35        5             unknown               empire   \n",
      "\n",
      "   location_x  location_y  destination_x  destination_y homeworld  \n",
      "0          10           2              8              1  Tatooine  \n",
      "1           9           7             10              6     Rodia  \n",
      "2           8           5              8              4   Sullust  \n",
      "3           8           6              4              5    Ryloth  \n",
      "4          10           2              7              1  Kashyyyk  \n"
     ]
    }
   ],
   "source": [
    "import pandas as pd\n",
    "import numpy as np\n",
    "import matplotlib.pyplot as plt\n",
    "import seaborn as sns\n",
    "from sklearn.model_selection import train_test_split\n",
    "from sklearn.tree import DecisionTreeClassifier\n",
    "from sklearn.metrics import accuracy_score, classification_report\n",
    "\n",
    "#load the dataset\n",
    "data = pd.read_csv('troop_movements.csv')\n",
    "\n",
    "#display first few rows\n",
    "print(\"first few rows of the dataframe:\")\n",
    "print(data.head())"
   ]
  },
  {
   "cell_type": "code",
   "execution_count": 2,
   "metadata": {},
   "outputs": [
    {
     "name": "stdout",
     "output_type": "stream",
     "text": [
      "empire_or_resistance\n",
      "resistance    518\n",
      "empire        482\n",
      "Name: count, dtype: int64\n"
     ]
    }
   ],
   "source": [
    "#count empire vs resistance\n",
    "empVsRes = data['empire_or_resistance'].value_counts()\n",
    "print(empVsRes)"
   ]
  },
  {
   "cell_type": "code",
   "execution_count": 3,
   "metadata": {},
   "outputs": [
    {
     "name": "stdout",
     "output_type": "stream",
     "text": [
      "homeworld\n",
      "Alderaan        34\n",
      "Dathomir        33\n",
      "Shili           33\n",
      "Concord Dawn    31\n",
      "Dagobah         30\n",
      "Rodia           30\n",
      "Mon Cala        30\n",
      "Zolan           30\n",
      "Sullust         29\n",
      "Naboo           29\n",
      "Ojom            29\n",
      "Umbara          29\n",
      "Muunilinst      28\n",
      "Tholoth         28\n",
      "Trandosha       27\n",
      "Tatooine        27\n",
      "Champala        26\n",
      "Quermia         25\n",
      "Eriadu          24\n",
      "Chandrila       24\n",
      "Glee Anselm     24\n",
      "Kalee           24\n",
      "Cerea           23\n",
      "Bestine IV      23\n",
      "Skako           23\n",
      "Socorro         22\n",
      "Kashyyyk        22\n",
      "Corellia        21\n",
      "Ryloth          21\n",
      "Serenno         20\n",
      "Toydaria        19\n",
      "Tund            19\n",
      "Aleen Minor     18\n",
      "Troiken         18\n",
      "Mirial          17\n",
      "Iktotch         17\n",
      "Haruun Kal      17\n",
      "Iridonia        17\n",
      "Malastare       17\n",
      "Stewjon         16\n",
      "Dorin           15\n",
      "Vulpter         11\n",
      "Name: count, dtype: int64\n"
     ]
    }
   ],
   "source": [
    "#count the homeworlds\n",
    "homeworlds = data['homeworld'].value_counts()\n",
    "print(homeworlds)"
   ]
  },
  {
   "cell_type": "code",
   "execution_count": 4,
   "metadata": {},
   "outputs": [
    {
     "name": "stdout",
     "output_type": "stream",
     "text": [
      "unit_type\n",
      "tie_fighter           139\n",
      "tie_silencer          135\n",
      "x-wing                132\n",
      "unknown               126\n",
      "resistance_soldier    125\n",
      "at-at                 121\n",
      "stormtrooper          116\n",
      "at-st                 106\n",
      "Name: count, dtype: int64\n"
     ]
    }
   ],
   "source": [
    "#count unit type\n",
    "units = data['unit_type'].value_counts()\n",
    "print(units)"
   ]
  },
  {
   "cell_type": "code",
   "execution_count": 5,
   "metadata": {},
   "outputs": [
    {
     "name": "stdout",
     "output_type": "stream",
     "text": [
      "             timestamp  unit_id           unit_type empire_or_resistance  \\\n",
      "0  2024-07-11 10:07:39        1  resistance_soldier           resistance   \n",
      "1  2024-07-11 10:07:38        2              x-wing               empire   \n",
      "2  2024-07-11 10:07:37        3  resistance_soldier               empire   \n",
      "3  2024-07-11 10:07:36        4         tie_fighter           resistance   \n",
      "4  2024-07-11 10:07:35        5             unknown               empire   \n",
      "\n",
      "   location_x  location_y  destination_x  destination_y homeworld  \\\n",
      "0          10           2              8              1  Tatooine   \n",
      "1           9           7             10              6     Rodia   \n",
      "2           8           5              8              4   Sullust   \n",
      "3           8           6              4              5    Ryloth   \n",
      "4          10           2              7              1  Kashyyyk   \n",
      "\n",
      "   is_resistance  \n",
      "0           True  \n",
      "1          False  \n",
      "2          False  \n",
      "3           True  \n",
      "4          False  \n"
     ]
    }
   ],
   "source": [
    "#create new column is resistance\n",
    "data['is_resistance'] = data['empire_or_resistance'] == 'resistance'\n",
    "print(data.head())"
   ]
  },
  {
   "cell_type": "code",
   "execution_count": 14,
   "metadata": {},
   "outputs": [
    {
     "data": {
      "image/png": "[encoded data removed]",
      "text/plain": [
       "<Figure size 1000x600 with 1 Axes>"
      ]
     },
     "metadata": {},
     "output_type": "display_data"
    }
   ],
   "source": [
    "#set up seaborn\n",
    "sns.set_theme(style=\"whitegrid\")\n",
    "\n",
    "\n",
    "#create bar plot\n",
    "plt.figure(figsize=(10,6))\n",
    "plt.bar(x=empVsRes.index, height=empVsRes.values, color=['blue', 'orange'])\n",
    "plt.ylabel('Count')\n",
    "plt.xlabel('Empire or Resistance')\n",
    "plt.title(\"Character Count by Empire or Resistance\")\n",
    "plt.show()"
   ]
  },
  {
   "cell_type": "code",
   "execution_count": null,
   "metadata": {},
   "outputs": [],
   "source": []
  }
 ],
 "metadata": {
  "kernelspec": {
   "display_name": "Python 3",
   "language": "python",
   "name": "python3"
  },
  "language_info": {
   "codemirror_mode": {
    "name": "ipython",
    "version": 3
   },
   "file_extension": ".py",
   "mimetype": "text/x-python",
   "name": "python",
   "nbconvert_exporter": "python",
   "pygments_lexer": "ipython3",
   "version": "3.12.3"
  }
 },
 "nbformat": 4,
 "nbformat_minor": 2
}
